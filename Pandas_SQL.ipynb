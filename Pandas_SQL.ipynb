{
 "cells": [
  {
   "cell_type": "code",
   "execution_count": 2,
   "id": "52d3ff2f-514d-4e00-bdb6-c8c24c477b6f",
   "metadata": {},
   "outputs": [],
   "source": [
    "import sqlite3\n",
    "import pandas as pd\n",
    "import sqlalchemy"
   ]
  },
  {
   "cell_type": "code",
   "execution_count": null,
   "id": "7423ac66-7420-49ba-83e6-611ce8e6e2c3",
   "metadata": {},
   "outputs": [],
   "source": [
    "# SQL engine\n",
    "engine = sqlalchemy.create_engine('database connection')"
   ]
  },
  {
   "cell_type": "code",
   "execution_count": null,
   "id": "6ab90a46-25bc-49e3-a668-07b72fa71ce9",
   "metadata": {},
   "outputs": [],
   "source": [
    "# importing SQL data\n",
    "pd.read_sql('table_name or SQL statements', engine)"
   ]
  },
  {
   "cell_type": "code",
   "execution_count": null,
   "id": "d66e2a89-9b76-4de7-8a44-16c4f67cfe18",
   "metadata": {},
   "outputs": [],
   "source": [
    "data_frame1 = pd.DataFrame([{'dataframe data raw entry'}])"
   ]
  },
  {
   "cell_type": "code",
   "execution_count": null,
   "id": "950bb171-2515-4a5f-ab1d-c510f6e43913",
   "metadata": {},
   "outputs": [],
   "source": [
    "# creating new table\n",
    "data_frame1.to_sql('new table', engine)"
   ]
  },
  {
   "cell_type": "code",
   "execution_count": null,
   "id": "40a3ccf7-1bb8-4691-8a3a-c92db15c8264",
   "metadata": {},
   "outputs": [],
   "source": [
    "# appending to existing table\n",
    "data_frame1.to_sql('table name'. engine, if_exists='append')\n",
    "# use index=False if index column doesn't exists"
   ]
  },
  {
   "cell_type": "code",
   "execution_count": null,
   "id": "c98612d9-533b-4f25-bc64-cd795b3c2abb",
   "metadata": {},
   "outputs": [],
   "source": [
    "# pulling in financial data, you might need to install yahoo\n",
    "# finance library\n",
    "!pip install yfinance\n",
    "import yfinance as yf"
   ]
  },
  {
   "cell_type": "code",
   "execution_count": null,
   "id": "c00c5327-12bb-47bf-a00c-ba2dc0469de0",
   "metadata": {},
   "outputs": [],
   "source": [
    "fin_dataframe = yf.download('stock name', start='2022-01-01')"
   ]
  },
  {
   "cell_type": "code",
   "execution_count": null,
   "id": "f5bebaee-9a60-46af-a532-2e2da20c80c3",
   "metadata": {},
   "outputs": [],
   "source": [
    "# converting into database table is suggested to have more query control\n",
    "fin_dataframe.to_sql('stock name', engine)"
   ]
  },
  {
   "cell_type": "code",
   "execution_count": null,
   "id": "b7bc50e7-2c14-43f1-a45a-51ec04d9877e",
   "metadata": {},
   "outputs": [],
   "source": [
    "fin_dataframe"
   ]
  }
 ],
 "metadata": {
  "kernelspec": {
   "display_name": "Python 3 (ipykernel)",
   "language": "python",
   "name": "python3"
  },
  "language_info": {
   "codemirror_mode": {
    "name": "ipython",
    "version": 3
   },
   "file_extension": ".py",
   "mimetype": "text/x-python",
   "name": "python",
   "nbconvert_exporter": "python",
   "pygments_lexer": "ipython3",
   "version": "3.9.7"
  }
 },
 "nbformat": 4,
 "nbformat_minor": 5
}
